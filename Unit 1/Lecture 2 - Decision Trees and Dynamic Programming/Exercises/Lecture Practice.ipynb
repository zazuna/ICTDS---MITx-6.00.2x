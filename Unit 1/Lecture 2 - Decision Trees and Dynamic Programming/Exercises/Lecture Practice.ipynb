{
 "cells": [
  {
   "cell_type": "code",
   "id": "initial_id",
   "metadata": {
    "collapsed": true
   },
   "source": [
    "from selenium.webdriver.common.by import By\n",
    "\n",
    "\n",
    "# Fibonacci With Memorization\n",
    "\n",
    "def fib(n, memo = {}):\n",
    "    if n == 1 or n == 0:\n",
    "        return 1\n",
    "    try:\n",
    "        return memo[n]\n",
    "    except KeyError:\n",
    "        result = fib(n-1, memo) + fib(n-2, memo)\n",
    "        memo[n] = result\n",
    "        return result\n",
    "    \n",
    "for i in range(121):\n",
    "    print('fib(' + str(i) + ') =', fib(i), fib(i).to_bytes())"
   ],
   "outputs": [],
   "execution_count": null
  }
 ],
 "metadata": {
  "kernelspec": {
   "display_name": "Python 3",
   "language": "python",
   "name": "python3"
  },
  "language_info": {
   "codemirror_mode": {
    "name": "ipython",
    "version": 2
   },
   "file_extension": ".py",
   "mimetype": "text/x-python",
   "name": "python",
   "nbconvert_exporter": "python",
   "pygments_lexer": "ipython2",
   "version": "2.7.6"
  }
 },
 "nbformat": 4,
 "nbformat_minor": 5
}
