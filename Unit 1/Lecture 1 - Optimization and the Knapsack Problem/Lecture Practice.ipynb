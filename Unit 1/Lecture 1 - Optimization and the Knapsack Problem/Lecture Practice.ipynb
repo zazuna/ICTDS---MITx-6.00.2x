{
 "cells": [
  {
   "cell_type": "code",
   "id": "initial_id",
   "metadata": {
    "collapsed": true,
    "ExecuteTime": {
     "end_time": "2024-10-19T13:00:52.077914Z",
     "start_time": "2024-10-19T13:00:52.075322Z"
    }
   },
   "source": "# Lecture Practice Snippets",
   "outputs": [],
   "execution_count": 1
  },
  {
   "metadata": {
    "ExecuteTime": {
     "end_time": "2024-10-22T09:19:53.499203Z",
     "start_time": "2024-10-22T09:19:53.486524Z"
    }
   },
   "cell_type": "code",
   "source": [
    "class Food(object):\n",
    "    def __init__(self, n, v, w):\n",
    "        self.name = n\n",
    "        self.value = v\n",
    "        self.calories = w\n",
    "        \n",
    "    def getValue(self):\n",
    "        return self.value\n",
    "    \n",
    "    def getCost(self):\n",
    "        return self.calories\n",
    "    \n",
    "    def density(self):\n",
    "        return self.getValue() / self.getCost()\n",
    "    \n",
    "    def __str__(self):\n",
    "        return self.name + ': <' + str(self.value) + ', ' + str(self.calories) + '>' \n",
    "    \n",
    "def buildMenu(names, values, calories):\n",
    "    \"\"\" names, values, calories lists of same length.\n",
    "        name a list of strings\n",
    "        values and calories lists of numbers\n",
    "        returns list of foods\n",
    "    \"\"\"\n",
    "    menu = []\n",
    "    for i in range(len(values)):\n",
    "        menu.append(Food(names[i], values[i], calories[i]))\n",
    "        \n",
    "    return menu\n",
    "\n",
    "\n",
    "def greedy(items, maxCost, keyFunction):\n",
    "    \"\"\"Assumes items a list, maxCost >= 0,\n",
    "        keyFunction maps elements of items to numbers\"\"\"\n",
    "    itemsCopy = sorted(items, key=keyFunction, reverse=True)\n",
    "    result = []\n",
    "    totalValue, totalCost = 0.0, 0.0\n",
    "    for i in range(len(itemsCopy)):\n",
    "        if (totalCost + itemsCopy[i].getCost()) <= maxCost:\n",
    "            result.append(itemsCopy[i])\n",
    "            totalCost += itemsCopy[i].getCost()\n",
    "            totalValue += itemsCopy[i].getValue()\n",
    "            \n",
    "    return (result, totalValue, totalCost)\n",
    "\n",
    "\n",
    "def testGreedy(items, constraint, keyFunction):\n",
    "    taken, val, calories = greedy(items, constraint, keyFunction)\n",
    "    print('Total value of items taken =', val, ' calories =', calories)\n",
    "    for item in taken:\n",
    "        print('   ', item)\n",
    "        \n",
    "        \n",
    "def testGreedys(foods, maxUnits):\n",
    "    print('Use greedy by value to allocate', maxUnits, 'calories')\n",
    "    testGreedy(foods, maxUnits, Food.getValue)\n",
    "    print('\\nUse greedy by cost to allocate', maxUnits, 'calories')\n",
    "    testGreedy(foods, maxUnits, lambda x: 1/Food.getCost(x))\n",
    "    print('\\nUse greedy by density to allocate', maxUnits, 'calories')\n",
    "    testGreedy(foods, maxUnits, Food.density)\n",
    "\n",
    "\n",
    "\n",
    "names = ['wine', 'beer', 'pizza', 'burger', 'fries', 'cola', 'apple', 'donut', 'cake']\n",
    "values = [89, 90, 95, 100, 90, 79, 50, 10]\n",
    "calories = [123, 154, 258, 354, 365, 150, 95, 195]\n",
    "foods = buildMenu(names, values, calories)\n",
    "    \n",
    "# for food in foods:\n",
    "#     print(food.name, food.value, food.calories)\n",
    "for food in foods:\n",
    "    print(food.name)\n",
    "testGreedys(foods, 1000)\n",
    "\n"
   ],
   "id": "ac853e66a3645e6d",
   "outputs": [
    {
     "name": "stdout",
     "output_type": "stream",
     "text": [
      "wine\n",
      "beer\n",
      "pizza\n",
      "burger\n",
      "fries\n",
      "cola\n",
      "apple\n",
      "donut\n",
      "Use greedy by value to allocate 1000 calories\n",
      "Total value of items taken = 424.0  calories = 984.0\n",
      "    burger: <100, 354>\n",
      "    pizza: <95, 258>\n",
      "    beer: <90, 154>\n",
      "    wine: <89, 123>\n",
      "    apple: <50, 95>\n",
      "\n",
      "Use greedy by cost to allocate 1000 calories\n",
      "Total value of items taken = 413.0  calories = 975.0\n",
      "    apple: <50, 95>\n",
      "    wine: <89, 123>\n",
      "    cola: <79, 150>\n",
      "    beer: <90, 154>\n",
      "    donut: <10, 195>\n",
      "    pizza: <95, 258>\n",
      "\n",
      "Use greedy by density to allocate 1000 calories\n",
      "Total value of items taken = 413.0  calories = 975.0\n",
      "    wine: <89, 123>\n",
      "    beer: <90, 154>\n",
      "    cola: <79, 150>\n",
      "    apple: <50, 95>\n",
      "    pizza: <95, 258>\n",
      "    donut: <10, 195>\n"
     ]
    }
   ],
   "execution_count": 69
  },
  {
   "metadata": {
    "ExecuteTime": {
     "end_time": "2024-10-26T14:02:41.025795Z",
     "start_time": "2024-10-26T14:02:40.997307Z"
    }
   },
   "cell_type": "code",
   "source": [
    "def get_all_subsets(some_list):\n",
    "    \"\"\"Returns all subsets of size 0 - len(some_list) for some_list\"\"\"\n",
    "    if len(some_list) == 0:\n",
    "        # If the list is empty, return the empty list\n",
    "        return [[]]\n",
    "    subsets = []\n",
    "    first_elt = some_list[0]\n",
    "    rest_list = some_list[1:]\n",
    "    # Strategy: Get all the subsets of rest_list; for each\n",
    "    # of those subsets, a full subset list will contain both\n",
    "    # the original subset as well as a version of the subset\n",
    "    # that contains first_elt\n",
    "    for partial_subset in get_all_subsets(rest_list):\n",
    "        subsets.append(partial_subset)\n",
    "        next_subset = partial_subset[:] + [first_elt]\n",
    "        subsets.append(next_subset)\n",
    "    return subsets\n",
    "\n",
    "NUMBER = 3\n",
    "def look_for_all_the_things(myList):\n",
    "    \"\"\"Looks at all subsets of this list\"\"\"\n",
    "    # Make subsets\n",
    "    all_subsets = get_all_subsets(myList)\n",
    "    for subset in all_subsets:\n",
    "        if sum(subset) == NUMBER:\n",
    "            return True\n",
    "    return False\n",
    "\n",
    "\n",
    "print(get_all_subsets([1,2,3]))\n"
   ],
   "id": "6357773bd78ccc2d",
   "outputs": [
    {
     "name": "stdout",
     "output_type": "stream",
     "text": [
      "[[], [1], [2], [2, 1], [3], [3, 1], [3, 2], [3, 2, 1]]\n"
     ]
    }
   ],
   "execution_count": 37
  },
  {
   "metadata": {
    "ExecuteTime": {
     "end_time": "2024-10-26T14:42:46.123961Z",
     "start_time": "2024-10-26T14:42:46.120730Z"
    }
   },
   "cell_type": "code",
   "source": [
    "# generate all combinations of N items\n",
    "def powerSet(items):\n",
    "    N = len(items)\n",
    "    # enumerate the 2**N possible combinations\n",
    "    for i in range(2**N):\n",
    "        combo = []\n",
    "        for j in range(N):\n",
    "            # test bit jth of integer i\n",
    "            if (i >> j) % 2 == 1:\n",
    "                combo.append(items[j])\n",
    "        yield combo\n",
    "        \n",
    "        \n",
    "items = [1,2,3]\n",
    "for powerSet in powerSet(items):\n",
    "    print(powerSet)"
   ],
   "id": "ae5962a85c1219e3",
   "outputs": [
    {
     "name": "stdout",
     "output_type": "stream",
     "text": [
      "[]\n",
      "[1]\n",
      "[2]\n",
      "[1, 2]\n",
      "[3]\n",
      "[1, 3]\n",
      "[2, 3]\n",
      "[1, 2, 3]\n"
     ]
    }
   ],
   "execution_count": 80
  },
  {
   "metadata": {
    "ExecuteTime": {
     "end_time": "2024-11-03T10:17:34.267001Z",
     "start_time": "2024-11-03T10:17:34.264208Z"
    }
   },
   "cell_type": "code",
   "source": [
    "# Testing Myself in Get All Subsets\n",
    "def getAllSubsets(myList):\n",
    "    if len(myList) == 0:\n",
    "        return [[]]\n",
    "    subset = []\n",
    "    first_element = myList[0]\n",
    "    rest_elements = myList[1:]\n",
    "    for partial_subset in getAllSubsets(rest_elements):\n",
    "        subset.append(partial_subset)\n",
    "        next_subset = partial_subset[:] + [first_element]\n",
    "        subset.append(next_subset)\n",
    "        print(partial_subset, first_element)\n",
    "\n",
    "    \n",
    "    return subset\n",
    "\n",
    "print(getAllSubsets([1,2,3]))"
   ],
   "id": "73415ab1a0b5a8e0",
   "outputs": [
    {
     "name": "stdout",
     "output_type": "stream",
     "text": [
      "[] 3\n",
      "[] 2\n",
      "[3] 2\n",
      "[] 1\n",
      "[2] 1\n",
      "[3] 1\n",
      "[3, 2] 1\n",
      "[[], [1], [2], [2, 1], [3], [3, 1], [3, 2], [3, 2, 1]]\n"
     ]
    }
   ],
   "execution_count": 9
  },
  {
   "metadata": {
    "ExecuteTime": {
     "end_time": "2024-11-03T11:16:51.950053Z",
     "start_time": "2024-11-03T11:16:51.947777Z"
    }
   },
   "cell_type": "code",
   "source": [
    "lst = [1,2,3,4,5]\n",
    "def geteverel(lst):\n",
    "    for i in lst:\n",
    "        yield i\n",
    "    \n",
    "gt = geteverel(lst)\n",
    "while gt:\n",
    "    try:\n",
    "        print(next(gt))\n",
    "    except StopIteration:\n",
    "        break"
   ],
   "id": "9d8b939a0836fd09",
   "outputs": [
    {
     "name": "stdout",
     "output_type": "stream",
     "text": [
      "1\n",
      "2\n",
      "3\n",
      "4\n",
      "5\n"
     ]
    }
   ],
   "execution_count": 38
  },
  {
   "metadata": {
    "ExecuteTime": {
     "end_time": "2024-11-03T11:07:33.869808Z",
     "start_time": "2024-11-03T11:07:33.583039Z"
    }
   },
   "cell_type": "code",
   "source": [
    "import time\n",
    "from collections import deque\n",
    "def solution(array, k):\n",
    "    d = deque(array)\n",
    "    permutations = []\n",
    "    # index = 0\n",
    "    while d:\n",
    "        # index = (index + k - 1) % len(array)\n",
    "        # item = array.pop(index)\n",
    "        d.rotate(1-k)\n",
    "        item = d.popleft()\n",
    "        permutations.append(item)\n",
    "    return permutations\n",
    "\n",
    "soldiers = 2_000_000\n",
    "k = 3\n",
    "start = time.perf_counter()\n",
    "solution([i + 1 for i in range(soldiers)], k)\n",
    "# print(solution([i + 1 for i in range(soldiers)], k))\n",
    "stop = time.perf_counter()\n",
    "print(stop - start)"
   ],
   "id": "a4dd320eea94c01d",
   "outputs": [
    {
     "name": "stdout",
     "output_type": "stream",
     "text": [
      "0.2839541251305491\n"
     ]
    }
   ],
   "execution_count": 32
  },
  {
   "metadata": {
    "ExecuteTime": {
     "end_time": "2024-11-03T12:12:01.661011Z",
     "start_time": "2024-11-03T12:12:01.648634Z"
    }
   },
   "cell_type": "code",
   "source": "print('11'&'11')",
   "id": "c212302745f23ab0",
   "outputs": [
    {
     "ename": "TypeError",
     "evalue": "unsupported operand type(s) for &: 'str' and 'str'",
     "output_type": "error",
     "traceback": [
      "\u001B[0;31m---------------------------------------------------------------------------\u001B[0m",
      "\u001B[0;31mTypeError\u001B[0m                                 Traceback (most recent call last)",
      "Cell \u001B[0;32mIn[41], line 1\u001B[0m\n\u001B[0;32m----> 1\u001B[0m \u001B[38;5;28mprint\u001B[39m(\u001B[38;5;124;43m'\u001B[39;49m\u001B[38;5;124;43m11\u001B[39;49m\u001B[38;5;124;43m'\u001B[39;49m\u001B[38;5;241;43m&\u001B[39;49m\u001B[38;5;124;43m'\u001B[39;49m\u001B[38;5;124;43m11\u001B[39;49m\u001B[38;5;124;43m'\u001B[39;49m)\n",
      "\u001B[0;31mTypeError\u001B[0m: unsupported operand type(s) for &: 'str' and 'str'"
     ]
    }
   ],
   "execution_count": 41
  },
  {
   "metadata": {
    "ExecuteTime": {
     "end_time": "2024-11-03T13:51:22.790461Z",
     "start_time": "2024-11-03T13:51:22.785427Z"
    }
   },
   "cell_type": "code",
   "source": "",
   "id": "c34b2e006a4cdb3a",
   "outputs": [
    {
     "name": "stdout",
     "output_type": "stream",
     "text": [
      "Horns\n",
      "Louis\n",
      "Polaris\n",
      "Muscles\n",
      "Milkshake\n"
     ]
    }
   ],
   "execution_count": 42
  },
  {
   "metadata": {},
   "cell_type": "code",
   "outputs": [],
   "execution_count": null,
   "source": "",
   "id": "7d7d294cfec4c5c3"
  }
 ],
 "metadata": {
  "kernelspec": {
   "display_name": "Python 3",
   "language": "python",
   "name": "python3"
  },
  "language_info": {
   "codemirror_mode": {
    "name": "ipython",
    "version": 2
   },
   "file_extension": ".py",
   "mimetype": "text/x-python",
   "name": "python",
   "nbconvert_exporter": "python",
   "pygments_lexer": "ipython2",
   "version": "2.7.6"
  }
 },
 "nbformat": 4,
 "nbformat_minor": 5
}
