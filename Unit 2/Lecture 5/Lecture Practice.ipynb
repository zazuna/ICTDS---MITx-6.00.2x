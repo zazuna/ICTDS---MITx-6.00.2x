{
 "cells": [
  {
   "cell_type": "code",
   "id": "initial_id",
   "metadata": {
    "collapsed": true,
    "ExecuteTime": {
     "end_time": "2024-11-09T20:56:21.728507Z",
     "start_time": "2024-11-09T20:56:19.597929Z"
    }
   },
   "source": [
    "import random\n",
    "random.seed(0)\n",
    "\n",
    "def rollDice():\n",
    "    return random.choice(range(1,7))\n",
    "\n",
    "def runSim(goal, numTrials):\n",
    "    total = 0\n",
    "    for i in range(numTrials):\n",
    "        result = ''\n",
    "        for j in range(len(goal)):\n",
    "            result += str(rollDice())\n",
    "        if result == goal:\n",
    "            total += 1\n",
    "    print('Actual Probability =', round(1/(6**len(goal)), 8))\n",
    "    estProbability = round(total/numTrials, 8)\n",
    "    print('Estimated Probability =', round(estProbability, 8))\n",
    "        \n",
    "runSim('11111', 1000000)"
   ],
   "outputs": [
    {
     "name": "stdout",
     "output_type": "stream",
     "text": [
      "Actual Probability = 0.0001286\n",
      "Estimated Probability = 0.000128\n"
     ]
    }
   ],
   "execution_count": 109
  },
  {
   "metadata": {
    "ExecuteTime": {
     "end_time": "2024-11-09T19:36:56.356103Z",
     "start_time": "2024-11-09T19:36:56.305002Z"
    }
   },
   "cell_type": "code",
   "source": [
    "def fracBoxCars(numTests):\n",
    "    numBoxCars = 0\n",
    "    for i in range(numTests):\n",
    "        if rollDice() == 6 and rollDice() == 6:\n",
    "            numBoxCars += 1\n",
    "        \n",
    "    return numBoxCars / numTests\n",
    "\n",
    "print('Frequency of double 6 = ', str(fracBoxCars(100000) * 100) + '%')\n",
    "        "
   ],
   "id": "66dc560844ec37c1",
   "outputs": [
    {
     "name": "stdout",
     "output_type": "stream",
     "text": [
      "Frequency of double 6 =  2.83%\n"
     ]
    }
   ],
   "execution_count": 38
  },
  {
   "metadata": {
    "ExecuteTime": {
     "end_time": "2024-11-10T15:44:11.784993Z",
     "start_time": "2024-11-10T15:44:11.019654Z"
    }
   },
   "cell_type": "code",
   "source": [
    "def rollDicef():\n",
    "    return random.choice(range(1,9))\n",
    "\n",
    "def runf(numTimes):\n",
    "    total = 0\n",
    "    for i in range(numTimes):\n",
    "        # if (rollDicef() + rollDicef()) % 2 != 0:\n",
    "        if rollDicef() == rollDicef() == rollDicef():\n",
    "        # if rollDicef() > rollDicef():\n",
    "        # if rollDicef() != 4 and rollDicef() != 4:\n",
    "        # if (rollDicef() == 2 and rollDicef() == 3) or (rollDicef() == 3 and rollDicef() == 2):\n",
    "        # if (rollDicef() == 2 and rollDicef() == 3) :\n",
    "            total += 1\n",
    "    return total\n",
    "\n",
    "numt = 1000000\n",
    "test = runf(numt)\n",
    "print('{0}/{1}'.format(test, numt))\n",
    "print(round(test/numt, 4))"
   ],
   "id": "f767228fcf1288b8",
   "outputs": [
    {
     "name": "stdout",
     "output_type": "stream",
     "text": [
      "15762/1000000\n",
      "0.0158\n"
     ]
    }
   ],
   "execution_count": 110
  },
  {
   "metadata": {
    "ExecuteTime": {
     "end_time": "2024-11-16T11:07:43.739588Z",
     "start_time": "2024-11-16T11:07:43.737496Z"
    }
   },
   "cell_type": "code",
   "source": "",
   "id": "bac1f812dfcda4f6",
   "outputs": [
    {
     "name": "stdout",
     "output_type": "stream",
     "text": [
      "False\n"
     ]
    }
   ],
   "execution_count": 3
  },
  {
   "metadata": {
    "ExecuteTime": {
     "end_time": "2024-11-16T12:21:11.604024Z",
     "start_time": "2024-11-16T12:21:11.601086Z"
    }
   },
   "cell_type": "code",
   "source": [
    "import random\n",
    "ls = [1,2,3,4]\n",
    "ls2 = [5,6,7,8]\n",
    "f, *l = ls\n",
    "print(f)\n",
    "print(l)\n",
    "# random.seed(0)\n",
    "print(random.randrange(1,360))"
   ],
   "id": "5386136d5bd28d14",
   "outputs": [
    {
     "name": "stdout",
     "output_type": "stream",
     "text": [
      "1\n",
      "[2, 3, 4]\n",
      "198\n"
     ]
    }
   ],
   "execution_count": 38
  },
  {
   "metadata": {},
   "cell_type": "code",
   "outputs": [],
   "execution_count": null,
   "source": "",
   "id": "3bb78463f7e4f708"
  }
 ],
 "metadata": {
  "kernelspec": {
   "display_name": "Python 3",
   "language": "python",
   "name": "python3"
  },
  "language_info": {
   "codemirror_mode": {
    "name": "ipython",
    "version": 2
   },
   "file_extension": ".py",
   "mimetype": "text/x-python",
   "name": "python",
   "nbconvert_exporter": "python",
   "pygments_lexer": "ipython2",
   "version": "2.7.6"
  }
 },
 "nbformat": 4,
 "nbformat_minor": 5
}
